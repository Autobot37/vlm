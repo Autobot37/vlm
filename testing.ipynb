{
 "cells": [
  {
   "cell_type": "code",
   "execution_count": null,
   "metadata": {},
   "outputs": [],
   "source": [
    "# !pip freeze > requirements.txt"
   ]
  },
  {
   "cell_type": "code",
   "execution_count": null,
   "metadata": {},
   "outputs": [],
   "source": [
    "data = {\n",
    "    \"caption\": \"first post\",\n",
    "    \"comments_count\": 0,\n",
    "    \"id\": \"18030180695134507\",\n",
    "    \"like_count\": 0,\n",
    "    \"media_type\": \"IMAGE\",\n",
    "    \"media_url\": \"https://imgs.search.brave.com/wwRLN3r718HKedeZzXT8qA01W1Bg9NBOzWvfPZsjdB8/rs:fit:860:0:0:0/g:ce/aHR0cHM6Ly9pbWFn/ZXMudmVyc3VzLmlv/L29iamVjdHMvYXBw/bGUtaXBob25lLTUu/ZnJvbnQubWVkaXVt/LjE1NzY2ODQ2NDEw/NDUuanBn\",\n",
    "    \"permalink\": \"https://www.instagram.com/p/DB6V6A5zUtp/\",\n",
    "    \"timestamp\": \"2024-11-03T13:53:28+0000\"\n",
    "  }\n",
    "\n",
    "import requests\n",
    "import time\n",
    "\n",
    "url = \"http://0.0.0.0:8190/predict\"\n",
    "\n",
    "s = time.time()\n",
    "response = requests.post(url, json=data)\n",
    "e = time.time()\n",
    "print(f\"Time taken: {e - s : .2f} seconds\")\n",
    "if response.status_code == 200:\n",
    "    print(\"Response:\", response.text)\n",
    "else:\n",
    "    print(f\"Request failed with status code {response.status_code}.\")"
   ]
  },
  {
   "cell_type": "code",
   "execution_count": 10,
   "metadata": {},
   "outputs": [
    {
     "data": {
      "text/plain": [
       "\" Greatness is at the border between now or never. What will you choose? Introducing Action 5 Pro. The most capable action camera we've ever built. Powered by an all new 1 over 1.3 inch sensor, Action 5 Pro captures 4K at 120 frames per second and takes stunning 40 megapixel photos in burst mode. So you don't miss a thing. Posting 13.5 stops of dynamic range, it excels in tough lighting conditions from day to night. And all new super night mode means you can go further into the darkest conditions. Action 5 Pro captures 10-bit color in normal and D-Log-N, delivering phenomenal detail and color accuracy. And it keeps up with you, generating up to 32x super slow motion. Wow. Action 5 Pro is your smart sidekick, keeping your horizon locked or automatically centering you in the frame. New larger-than-life OLED touchscreens are bigger and brighter with incredibly vivid color. A new code-resistant battery lasts even longer with its extended 4-hour battery life. Connect directly to two DJI Mic 2s using Osmo Audio. Making vlogging easier than ever. Action 5 Pro is waterproof, certified up to 20 meters. So you dive times and depths in real time with Action 5 Pro's enhanced internal pressure sensors. And with a finely tuned color temperature sensor, your footage retains natural underwater hues. Transfer photos and videos with high-speed transfer so you can share instantly. Action 5 Pro tells you how high you are in real time with barometric pressure detection and overlay telemetry data with your preferred data tracking device. It's now or never, and the choice is yours. This is Action 5 Pro. Be all in.\""
      ]
     },
     "execution_count": 10,
     "metadata": {},
     "output_type": "execute_result"
    }
   ],
   "source": [
    "import base64\n",
    "import requests\n",
    "def process_audio(path):\n",
    "    with open(path, \"rb\") as f:\n",
    "        audio_bytes = f.read()\n",
    "    audio_base64 = base64.b64encode(audio_bytes).decode(\"utf-8\")\n",
    "    payload = {\n",
    "        \"audio\": audio_base64\n",
    "    }\n",
    "    response = requests.post(\"http://localhost:8000/\", json=payload)\n",
    "    if response.status_code == 200:\n",
    "        result = response.json()\n",
    "        return result['answer']\n",
    "    return None\n",
    "process_audio(\"DAGYFInI_-g (1).mp3\")"
   ]
  },
  {
   "cell_type": "code",
   "execution_count": null,
   "metadata": {},
   "outputs": [],
   "source": []
  }
 ],
 "metadata": {
  "language_info": {
   "name": "python"
  }
 },
 "nbformat": 4,
 "nbformat_minor": 2
}
